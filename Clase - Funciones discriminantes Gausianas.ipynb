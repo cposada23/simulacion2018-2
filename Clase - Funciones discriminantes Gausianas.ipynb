{
 "cells": [
  {
   "cell_type": "markdown",
   "metadata": {},
   "source": [
    "# Modelos de clasificación empleando funciones de densidad Gausianas"
   ]
  },
  {
   "cell_type": "markdown",
   "metadata": {},
   "source": [
    "### Julián D. Arias Londoño"
   ]
  },
  {
   "cell_type": "raw",
   "metadata": {},
   "source": [
    "Profesor Asistente\n",
    "Departamento de Ingeniería de Sistemas\n",
    "Universidad de Antioquia, Medellín, Colombia\n",
    "julian.ariasl@udea.edu.co"
   ]
  },
  {
   "cell_type": "code",
   "execution_count": null,
   "metadata": {},
   "outputs": [],
   "source": [
    "! pip install --upgrade pip\n",
    "! pip install matplotlib numpy seaborn sklearn"
   ]
  },
  {
   "cell_type": "code",
   "execution_count": 3,
   "metadata": {},
   "outputs": [],
   "source": [
    "# Bibliotecas\n",
    "\n",
    "%matplotlib inline\n",
    "import matplotlib.pyplot as plt\n",
    "from IPython.display import Image\n",
    "from matplotlib.colors import ListedColormap\n",
    "import seaborn as sbs\n",
    "\n",
    "import numpy as np\n",
    "\n",
    "import math\n",
    "from sklearn import datasets\n",
    "\n",
    "#Algunas advertencias que queremos evitar\n",
    "import warnings\n",
    "warnings.filterwarnings(\"always\")\n"
   ]
  },
  {
   "cell_type": "markdown",
   "metadata": {},
   "source": [
    "El problema de clasificación anterior puede ser visto de una manera alternativa. Pensemos que en lugar de encontrar una función polinomial que separe las dos clases de interés, podríamos encontrar las funciones de densidad de probabilidad (fdp) de las clases y realizar la clasificación de una muestra con base en la probabilidad de que esa muestra pertenezca a una u otra clase."
   ]
  },
  {
   "cell_type": "code",
   "execution_count": 4,
   "metadata": {},
   "outputs": [
    {
     "data": {
      "image/png": "[encoded data removed]",
      "text/plain": [
       "<Figure size 432x288 with 1 Axes>"
      ]
     },
     "metadata": {},
     "output_type": "display_data"
    }
   ],
   "source": [
    "iris = datasets.load_iris()\n",
    "X, y = iris.data, iris.target\n",
    "X2 = X[:100][:,2:4]\n",
    "y2 = y[:100]\n",
    "plt.scatter(X2[:,0], X2[:,1], c=y2,cmap='Accent');"
   ]
  },
  {
   "cell_type": "markdown",
   "metadata": {},
   "source": [
    "Si asumimos por ejemplo que la fdp de cada clase en la figura anterior la vamos a modelar usando funciones de probabilidad Gausianas, entonces la fdp de cada una estará dada por la función: "
   ]
  },
  {
   "cell_type": "markdown",
   "metadata": {},
   "source": [
    "$$p({\\bf{x}})=\\frac{1}{(2\\pi)^{d/2}\\left| \\Sigma \\right|^{1/2} } \\exp\\left[ -\\frac{1}{2} ({\\bf{x}} - {\\bf{\\mu}})^T \\Sigma^{-1} ({\\bf{x}} - {\\bf{\\mu}}) \\right]$$"
   ]
  },
  {
   "cell_type": "markdown",
   "metadata": {},
   "source": [
    "Es necesario tener en cuenta que los problemas que estamos abordando son de múltiples variables de entrada, entonces la función Gausiana anterior corresponde a una función de varias variables, en donde $\\mu$ corresponde a un vector de medias, es decir un vector que contiene las medias de cada variable y $\\Sigma$ es la matriz de covarianza."
   ]
  },
  {
   "cell_type": "markdown",
   "metadata": {},
   "source": [
    "<center>![alt text](./Images/MuySigma.png)</center>"
   ]
  },
  {
   "cell_type": "markdown",
   "metadata": {},
   "source": [
    "Una vez hemos decido que el modelo que reprsentará cada clase será un fdp Gausiana, podemos utilizar el criterio de Máxima Verosimilitud visto antes para estimar los parámetros de la función. Si tenemos $N$ muestras i.i.d. ${\\bf{x}}_i \\sim {\\mathcal{N}}({\\bf{\\mu}},\\Sigma)$, entonces los parámetros de la función de densidad se pueden estimar a partir del criterio ML como:"
   ]
  },
  {
   "cell_type": "markdown",
   "metadata": {},
   "source": [
    "$$\\hat{\\mu} = \\frac{1}{N}\\sum_{i=1}^{N} {\\bf{x}}_i$$"
   ]
  },
  {
   "cell_type": "markdown",
   "metadata": {},
   "source": [
    "$$\\hat{\\Sigma} = \\frac{1}{N}\\sum_{i=1}^{N} ({\\bf{x}}_i - \\hat{\\mu})({\\bf{x}}_i - \\hat{\\mu})^T$$"
   ]
  },
  {
   "cell_type": "markdown",
   "metadata": {},
   "source": [
    "Si el modelo de clasificación que pretendemos implementar corresponde entonces a un modelo basado en funciones discriminantes Gausianas, el procedimiento que debemos seguir es el siguiente:"
   ]
  },
  {
   "cell_type": "markdown",
   "metadata": {},
   "source": [
    "#### Entrenamiento"
   ]
  },
  {
   "cell_type": "markdown",
   "metadata": {},
   "source": [
    "<li>Tomar el conjunto de muestras de entrenamiento y separarlas en $C$ subconjuntos, donde $C$ es el número de clases a reconocer, es decir que cada subconjunto contiene únicamente muestras de una clase. </li>\n",
    "<li>Utilizar cada uno de los subconjuntos y estimar los valores del vector de medias y la matriz de covarianza.</li>\n",
    "<li>Con los valores de media y covarianza definir una función $p$ (Ecuación 1.), para cada una de las clases.</li>\n"
   ]
  },
  {
   "cell_type": "markdown",
   "metadata": {},
   "source": [
    "#### Procedimiento para clasificar una nueva muestra"
   ]
  },
  {
   "cell_type": "markdown",
   "metadata": {},
   "source": [
    "Cuando al sistema ingrese una nueva muestra, es decir un vector ${\\bf{x}}$* , para el que no conocemos su clase y deseamos predecirla, deberemos entonces:\n",
    "<li>Evaluar ${\\bf{x}}^*$ en cada una de las funciones $p_j$, para cada una las clases, $j=1,...,C$. Con esto vamos a establecer la probabilidad de que la muestra nueva pertenezca a cada una de las clases, de acuerdo con el modelo que hemos asumido (Gausiano)</li>\n",
    "<li>La clase asignada a la muestra ${\\bf{x}}^*$, será la clase para la cual la probabilidad sea mayor.</li>"
   ]
  },
  {
   "cell_type": "markdown",
   "metadata": {},
   "source": [
    "$$C* = \\mathop {\\arg \\max }\\limits_k p_k({\\bf{x}}^*)$$"
   ]
  },
  {
   "cell_type": "markdown",
   "metadata": {},
   "source": [
    "Si aplicamos este método al conjunto de muestras de la primera figura obtendremos la siguiente frontera de clasificación:"
   ]
  },
  {
   "cell_type": "code",
   "execution_count": 8,
   "metadata": {},
   "outputs": [],
   "source": [
    "def DistribucionGaussiana(X,Mu,Sigma):\n",
    "    \n",
    "    SigmaInversa = np.linalg.inv(np.array(Sigma))\n",
    "    PrimerTermino = (1/(2*math.pi*math.sqrt(np.linalg.det(Sigma))))\n",
    "    \n",
    "    primerDot = np.dot((X-Mu),SigmaInversa)\n",
    "    segundoDot = np.dot(primerDot,(X-Mu).T)\n",
    "    Exponencial = math.exp(-0.5*segundoDot)\n",
    "    \n",
    "    Probabilidad = PrimerTermino * Exponencial\n",
    "    \n",
    "    return Probabilidad"
   ]
  },
  {
   "cell_type": "code",
   "execution_count": 6,
   "metadata": {},
   "outputs": [],
   "source": [
    "def FuncionDiscriminanteGaussiana(Tipo=1):\n",
    "    x_min, x_max = X[:, 2].min() - .1, X[:, 2].max() + .1\n",
    "    y_min, y_max = X[:, 3].min() - .1, X[:, 3].max() + .1\n",
    "    \n",
    "    xx, yy = np.meshgrid(np.linspace(x_min, x_max, 100),\n",
    "                         np.linspace(y_min, y_max, 100))\n",
    "    \n",
    "    #Estimación de medias y Covarianzas\n",
    "    Mu1 = np.mean(X2[:50,:], axis=0)\n",
    "    Mu2 = np.mean(X2[51:,:], axis=0)\n",
    "    \n",
    "    Sigma1 = np.cov((X2[:50,:]).T)\n",
    "    Sigma2 = np.cov((X2[51:,:]).T)\n",
    "    \n",
    "    Sigma3 = (0.5*(Sigma1+Sigma2))\n",
    "    \n",
    "    Z = np.zeros((100,100))\n",
    "    \n",
    "    #Evaluando las fdp's en una malla de valores\n",
    "    for i in range(100):\n",
    "        for j in range(100):\n",
    "            Xtem = np.array([xx[1,i],yy[j,1]])[np.newaxis]\n",
    "            \n",
    "            if Tipo == 0 :\n",
    "            \n",
    "                p1 = DistribucionGaussiana(Xtem,Mu1,Sigma1)\n",
    "                p2 = DistribucionGaussiana(Xtem,Mu2,Sigma2)\n",
    "            elif Tipo == 1:\n",
    "                p1 = DistribucionGaussiana(Xtem,Mu1,Sigma3)\n",
    "                p2 = DistribucionGaussiana(Xtem,Mu2,Sigma3)\n",
    "            if p1 >= p2:\n",
    "                Z[i,j] = 1\n",
    "            else:\n",
    "                Z[i,j] = 0\n",
    "    plt.figure()\n",
    "    plt.pcolormesh(xx, yy, Z.T, cmap='Accent')\n",
    "    plt.scatter(X2[:,0], X2[:,1], c=y2)\n",
    "    plt.show()    "
   ]
  },
  {
   "cell_type": "code",
   "execution_count": 9,
   "metadata": {},
   "outputs": [
    {
     "data": {
      "application/vnd.jupyter.widget-view+json": {
       "model_id": "6bce9650b91744aea6f669c1fa3c88d5",
       "version_major": 2,
       "version_minor": 0
      },
      "text/plain": [
       "aW50ZXJhY3RpdmUoY2hpbGRyZW49KERyb3Bkb3duKGRlc2NyaXB0aW9uPXUnVGlwbycsIG9wdGlvbnM9eydJZ3VhbCBNYXRyaXogZGUgQ292YXJpYW56YSc6IDEsICdEaWZlcmVudGUgTWF0cmnigKY=\n"
      ]
     },
     "metadata": {},
     "output_type": "display_data"
    },
    {
     "data": {
      "text/plain": [
       "<function __main__.FuncionDiscriminanteGaussiana>"
      ]
     },
     "execution_count": 9,
     "metadata": {},
     "output_type": "execute_result"
    }
   ],
   "source": [
    "from __future__ import print_function\n",
    "from ipywidgets import interact,interactive,fixed, interact_manual\n",
    "import ipywidgets as widgets\n",
    "\n",
    "interact(FuncionDiscriminanteGaussiana,Tipo={'Igual Matriz de Covarianza': 1, 'Diferente Matriz de Covarianza': 0})"
   ]
  },
  {
   "cell_type": "markdown",
   "metadata": {},
   "source": [
    "----------------------------------------------------------------------------------------------------------------------------------------------"
   ]
  },
  {
   "cell_type": "code",
   "execution_count": 13,
   "metadata": {},
   "outputs": [],
   "source": [
    "from matplotlib.patches import Ellipse\n",
    "def plot_ellipse(ax, mu ,sigma):\n",
    "\n",
    "    vals, vecs = np.linalg.eigh(sigma)\n",
    "    \n",
    "    x , y = vecs[:, 0]\n",
    "    theta = np.degrees(np.arctan2(y,x))\n",
    "    \n",
    "    w,h = 4* np.sqrt(vals)\n",
    "    \n",
    "    ax.tick_params(axis='both',which='major',labelsize=20)\n",
    "    ellipse = Ellipse(mu,w,h,theta,color='k')\n",
    "    ellipse.set_alpha(0.2)\n",
    "    ax.add_artist(ellipse)"
   ]
  },
  {
   "cell_type": "markdown",
   "metadata": {},
   "source": [
    "El modelo anterior tiene tres posibles casos:"
   ]
  },
  {
   "cell_type": "markdown",
   "metadata": {},
   "source": [
    "Caso 1. Si las matrices de covarianza se consideran de la forma $\\Sigma = \\sigma^2 {\\bf{I}}$, donde ${\\bf{I}}$ es la matriz identidad. En este caso lo que se asume es todas las características se consideran estadísticamente independientes y de igual varianza. En este caso, cada clase se considera como un grupo agrupado dentro de un círculo (hiperesfera es como se llama de manera genérica para hablar de muchas dimensiones) perfecto al rededor de su media."
   ]
  },
  {
   "cell_type": "code",
   "execution_count": 14,
   "metadata": {
    "scrolled": true
   },
   "outputs": [
    {
     "data": {
      "image/png": "[encoded data removed]",
      "text/plain": [
       "<Figure size 432x288 with 1 Axes>"
      ]
     },
     "metadata": {},
     "output_type": "display_data"
    }
   ],
   "source": [
    "Cov = np.identity(2) * 1.1\n",
    "Mean = [1.1,2.1]\n",
    "Mean2 = [5.1,4.1]\n",
    "ax = plt.subplot(111)\n",
    "x, y  = np.random.multivariate_normal(Mean, Cov, 60).T\n",
    "x2, y2  = np.random.multivariate_normal(Mean2, Cov, 60).T\n",
    "ax.plot(x,y,'x')\n",
    "ax.plot(x2,y2,'x')\n",
    "ax.axis('equal')\n",
    "\n",
    "plot_ellipse(ax,Mean,Cov)\n",
    "plot_ellipse(ax,Mean2,Cov)\n",
    "\n"
   ]
  },
  {
   "cell_type": "markdown",
   "metadata": {},
   "source": [
    "Caso 2. Si las matrices de covarianza se consideran diagonales. En este caso lo que se asume es todas las características se consideran estadísticamente independientes pero no de igual varinza. En este caso las clases se consideran agrupadas en parábolas cuyo eje principal puede estar a lo largo de cualquiera de las características. Este modelo es equivalente al clasificador conocido como <b>Naïve Bayes Classifier</b> o clasificador Bayesiano ingenuo (<mark>Conslutar</mark>)."
   ]
  },
  {
   "cell_type": "markdown",
   "metadata": {},
   "source": [
    "Caso 3. Es el caso más general, en el que las matrices de covarianza de los modelos se consideran completas y las clases se consideran agrupadas en parábolas cuyo eje principal puede estar en cualquier dirección, es por consiguiente el más flexible."
   ]
  },
  {
   "cell_type": "code",
   "execution_count": 15,
   "metadata": {},
   "outputs": [
    {
     "data": {
      "image/png": "[encoded data removed]",
      "text/plain": [
       "<Figure size 432x288 with 1 Axes>"
      ]
     },
     "metadata": {},
     "output_type": "display_data"
    }
   ],
   "source": [
    "Cov = [[1.1,0],[0,2.1]]\n",
    "Cov2 = [[4.1,2],[2,3.1]]\n",
    "Mean = [1.1,2.1]\n",
    "Mean2 = [5.1,4.1]\n",
    "ax = plt.subplot(111)\n",
    "x, y  = np.random.multivariate_normal(Mean, Cov, 60).T\n",
    "x2, y2  = np.random.multivariate_normal(Mean2, Cov2, 60).T\n",
    "ax.plot(x,y,'x')\n",
    "ax.plot(x2,y2,'x')\n",
    "ax.axis('equal')\n",
    "\n",
    "plot_ellipse(ax,Mean,Cov)\n",
    "plot_ellipse(ax,Mean2,Cov2)"
   ]
  },
  {
   "cell_type": "markdown",
   "metadata": {},
   "source": [
    "----------------------------------------------------------------------------------------------------------------------------------------------"
   ]
  },
  {
   "cell_type": "markdown",
   "metadata": {},
   "source": [
    "#### NOTA:"
   ]
  },
  {
   "cell_type": "markdown",
   "metadata": {},
   "source": [
    "El modelo visto en esta clase corresponde a un tipo de modelo de clasificación <b>Generativo</b>, porque en la clasificación se realiza modelando cada clase de manera independiente, utilizando un modelo basado en funciones de densidad de probabilidad, que una vez ajustadas, se pueden usar como generadoras de muestras de cada una de las clases. Por otro lado, el modelo de clasificación basado en regresión logística que vimos en la clase anterior, corresponde a un modelo de clasificación <b>Discriminativo</b> porque en ese caso, el modelo se entrenó con muestras de las dos clases al mismo tiempo y el objetivo no era describir una clase u otra, sino, diferenciarlas."
   ]
  }
 ],
 "metadata": {
  "kernelspec": {
   "display_name": "Python 2",
   "language": "python",
   "name": "python2"
  },
  "language_info": {
   "codemirror_mode": {
    "name": "ipython",
    "version": 2
   },
   "file_extension": ".py",
   "mimetype": "text/x-python",
   "name": "python",
   "nbconvert_exporter": "python",
   "pygments_lexer": "ipython2",
   "version": "2.7.15rc1"
  }
 },
 "nbformat": 4,
 "nbformat_minor": 2
}
